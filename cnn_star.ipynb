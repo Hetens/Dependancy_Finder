{
 "cells": [
  {
   "cell_type": "markdown",
   "id": "d3d17a63-3088-4a78-b7f1-c585b118c3e3",
   "metadata": {
    "jp-MarkdownHeadingCollapsed": true,
    "tags": []
   },
   "source": [
    "# Data Loading"
   ]
  },
  {
   "cell_type": "code",
   "execution_count": 21,
   "id": "ecdde1ff-fa66-4402-9f2e-aac7e5cd3055",
   "metadata": {
    "tags": []
   },
   "outputs": [],
   "source": [
    "import torch\n",
    "import torch.nn as nn\n",
    "import torch.nn.functional as F\n",
    "import torchvision\n",
    "import torchvision.transforms as transforms\n",
    "import sklearn.metrics as metrics\n",
    "from torch.utils.data import DataLoader, TensorDataset"
   ]
  },
  {
   "cell_type": "code",
   "execution_count": 2,
   "id": "da08e6aa-c8d7-43a8-8fa5-8ef124a4c5d5",
   "metadata": {
    "tags": []
   },
   "outputs": [],
   "source": [
    "import pandas as pd\n",
    "data = pd.read_csv('smalldata.csv')"
   ]
  },
  {
   "cell_type": "code",
   "execution_count": 3,
   "id": "63e9cd45-918f-4de8-b6bf-a2fe2965b71e",
   "metadata": {
    "tags": []
   },
   "outputs": [
    {
     "data": {
      "text/html": [
       "<div>\n",
       "<style scoped>\n",
       "    .dataframe tbody tr th:only-of-type {\n",
       "        vertical-align: middle;\n",
       "    }\n",
       "\n",
       "    .dataframe tbody tr th {\n",
       "        vertical-align: top;\n",
       "    }\n",
       "\n",
       "    .dataframe thead th {\n",
       "        text-align: right;\n",
       "    }\n",
       "</style>\n",
       "<table border=\"1\" class=\"dataframe\">\n",
       "  <thead>\n",
       "    <tr style=\"text-align: right;\">\n",
       "      <th></th>\n",
       "      <th>ra</th>\n",
       "      <th>dec</th>\n",
       "      <th>parallax</th>\n",
       "      <th>pm</th>\n",
       "      <th>pmra</th>\n",
       "      <th>pmdec</th>\n",
       "      <th>phot_g_mean_mag</th>\n",
       "      <th>phot_bp_mean_mag</th>\n",
       "      <th>phot_rp_mean_mag</th>\n",
       "      <th>bp_rp</th>\n",
       "      <th>r</th>\n",
       "      <th>appears_in_cleaned_data</th>\n",
       "    </tr>\n",
       "  </thead>\n",
       "  <tbody>\n",
       "    <tr>\n",
       "      <th>0</th>\n",
       "      <td>201.620388</td>\n",
       "      <td>-47.405317</td>\n",
       "      <td>0.240703</td>\n",
       "      <td>7.391876</td>\n",
       "      <td>-3.922583</td>\n",
       "      <td>-6.265235</td>\n",
       "      <td>14.895628</td>\n",
       "      <td>15.265656</td>\n",
       "      <td>14.133615</td>\n",
       "      <td>1.132042</td>\n",
       "      <td>0.123705</td>\n",
       "      <td>0</td>\n",
       "    </tr>\n",
       "    <tr>\n",
       "      <th>1</th>\n",
       "      <td>201.605164</td>\n",
       "      <td>-47.402231</td>\n",
       "      <td>0.069689</td>\n",
       "      <td>6.739927</td>\n",
       "      <td>-2.903652</td>\n",
       "      <td>-6.082386</td>\n",
       "      <td>16.314130</td>\n",
       "      <td>16.606716</td>\n",
       "      <td>15.538188</td>\n",
       "      <td>1.068528</td>\n",
       "      <td>0.136209</td>\n",
       "      <td>0</td>\n",
       "    </tr>\n",
       "    <tr>\n",
       "      <th>2</th>\n",
       "      <td>201.604690</td>\n",
       "      <td>-47.401503</td>\n",
       "      <td>0.416323</td>\n",
       "      <td>5.111507</td>\n",
       "      <td>0.231605</td>\n",
       "      <td>-5.106258</td>\n",
       "      <td>15.925287</td>\n",
       "      <td>16.125220</td>\n",
       "      <td>15.103956</td>\n",
       "      <td>1.021263</td>\n",
       "      <td>0.137061</td>\n",
       "      <td>0</td>\n",
       "    </tr>\n",
       "    <tr>\n",
       "      <th>3</th>\n",
       "      <td>201.552717</td>\n",
       "      <td>-47.451550</td>\n",
       "      <td>0.207947</td>\n",
       "      <td>6.998617</td>\n",
       "      <td>-3.783562</td>\n",
       "      <td>-5.887725</td>\n",
       "      <td>15.205086</td>\n",
       "      <td>15.622153</td>\n",
       "      <td>14.459497</td>\n",
       "      <td>1.162656</td>\n",
       "      <td>0.155047</td>\n",
       "      <td>0</td>\n",
       "    </tr>\n",
       "    <tr>\n",
       "      <th>4</th>\n",
       "      <td>201.553531</td>\n",
       "      <td>-47.448031</td>\n",
       "      <td>0.267631</td>\n",
       "      <td>7.626726</td>\n",
       "      <td>-4.023033</td>\n",
       "      <td>-6.479363</td>\n",
       "      <td>14.897597</td>\n",
       "      <td>15.304309</td>\n",
       "      <td>14.170662</td>\n",
       "      <td>1.133647</td>\n",
       "      <td>0.155416</td>\n",
       "      <td>0</td>\n",
       "    </tr>\n",
       "  </tbody>\n",
       "</table>\n",
       "</div>"
      ],
      "text/plain": [
       "           ra        dec  parallax        pm      pmra     pmdec  \\\n",
       "0  201.620388 -47.405317  0.240703  7.391876 -3.922583 -6.265235   \n",
       "1  201.605164 -47.402231  0.069689  6.739927 -2.903652 -6.082386   \n",
       "2  201.604690 -47.401503  0.416323  5.111507  0.231605 -5.106258   \n",
       "3  201.552717 -47.451550  0.207947  6.998617 -3.783562 -5.887725   \n",
       "4  201.553531 -47.448031  0.267631  7.626726 -4.023033 -6.479363   \n",
       "\n",
       "   phot_g_mean_mag  phot_bp_mean_mag  phot_rp_mean_mag     bp_rp         r  \\\n",
       "0        14.895628         15.265656         14.133615  1.132042  0.123705   \n",
       "1        16.314130         16.606716         15.538188  1.068528  0.136209   \n",
       "2        15.925287         16.125220         15.103956  1.021263  0.137061   \n",
       "3        15.205086         15.622153         14.459497  1.162656  0.155047   \n",
       "4        14.897597         15.304309         14.170662  1.133647  0.155416   \n",
       "\n",
       "   appears_in_cleaned_data  \n",
       "0                        0  \n",
       "1                        0  \n",
       "2                        0  \n",
       "3                        0  \n",
       "4                        0  "
      ]
     },
     "execution_count": 3,
     "metadata": {},
     "output_type": "execute_result"
    }
   ],
   "source": [
    "data.head()"
   ]
  },
  {
   "cell_type": "code",
   "execution_count": 126,
   "id": "ed9dcbd2-074c-4ddf-a272-e00d4df22eed",
   "metadata": {
    "tags": []
   },
   "outputs": [],
   "source": [
    "from sklearn.model_selection import train_test_split\n",
    "import numpy as np\n",
    "BATCH_SIZE = 16\n",
    "\n",
    "X = data[data.columns[2:-1]]\n",
    "y = data[data.columns[-1]]\n",
    "\n",
    "X_train, X_test, y_train, y_test = train_test_split(np.array(X), np.array(y), test_size=0.33, random_state=42) \n",
    "\n",
    "X_train_tensor = torch.FloatTensor(X_train).unsqueeze(1)  # Add channel dimension\n",
    "y_train_tensor = torch.LongTensor(y_train)  # Ensure labels are long tensor for classification\n",
    "X_test_tensor = torch.FloatTensor(X_test).unsqueeze(1)  # Add channel dimension\n",
    "y_test_tensor = torch.LongTensor(y_test)  # Ensure labels are long tensor for classification\n",
    "X_val =torch.FloatTensor(np.array(X)).unsqueeze(1)  # Add channel dimension\n",
    "y_val = torch.LongTensor(np.array(y))\n",
    "# Create TensorDatasets\n",
    "train_dataset = TensorDataset(X_train_tensor, y_train_tensor)\n",
    "test_dataset = TensorDataset(X_test_tensor, y_test_tensor)\n",
    "val_dataset =  TensorDataset(X_val,y_val)\n",
    "train_dataloader = DataLoader(train_dataset, batch_size=BATCH_SIZE, shuffle=True)\n",
    "test_dataloader = DataLoader(test_dataset, batch_size=BATCH_SIZE, shuffle=True)\n",
    "val_dataloader= DataLoader(val_dataset,batch_size=BATCH_SIZE, shuffle=True)"
   ]
  },
  {
   "cell_type": "code",
   "execution_count": 127,
   "id": "b56e4dca-7f4c-448c-80c6-db2ce67d1687",
   "metadata": {
    "tags": []
   },
   "outputs": [
    {
     "name": "stdout",
     "output_type": "stream",
     "text": [
      "Shape of X [N, C, H, W]: torch.Size([16, 1, 9])\n",
      "Shape of y: torch.Size([16]) torch.int64\n"
     ]
    }
   ],
   "source": [
    "for X, y in train_dataloader:\n",
    "  print(f\"Shape of X [N, C, H, W]: {X.shape}\")\n",
    "  print(f\"Shape of y: {y.shape} {y.dtype}\")\n",
    "  break"
   ]
  },
  {
   "cell_type": "markdown",
   "id": "6681b4c8-0c44-48e9-943e-2efdeefef4b3",
   "metadata": {
    "jp-MarkdownHeadingCollapsed": true,
    "tags": []
   },
   "source": [
    "# Convolutional Neural Network"
   ]
  },
  {
   "cell_type": "code",
   "execution_count": 128,
   "id": "ea5308a5-f47e-46e9-8b7c-35039572c8f8",
   "metadata": {
    "tags": []
   },
   "outputs": [],
   "source": [
    "class MyModel(nn.Module):\n",
    "    def __init__(self):\n",
    "        super(MyModel, self).__init__()\n",
    "        \n",
    "        # Adjust in_channels to 1 since we're adding a channel dimension in the data\n",
    "        self.conv1 = nn.Conv1d(in_channels=1, out_channels=16, kernel_size=3, stride=1, padding=1)\n",
    "        self.d1 = nn.Linear(144, 64)  # 16 filters and 11 features after conv1d\n",
    "        self.d2 = nn.Linear(64, 2)  # Assuming binary classification, adjust as needed\n",
    "\n",
    "    def forward(self, x):\n",
    "        # Apply the 1D convolutional layer\n",
    "        x = self.conv1(x)\n",
    "        x = F.relu(x)\n",
    "\n",
    "        # Flatten the output for the linear layers\n",
    "        x = x.flatten(start_dim = 1)\n",
    "\n",
    "        x = self.d1(x)\n",
    "        x = F.relu(x)\n",
    "\n",
    "        # Apply the second linear layer\n",
    "        logits = self.d2(x)\n",
    "        out = F.softmax(logits, dim=1)\n",
    "        return out"
   ]
  },
  {
   "cell_type": "code",
   "execution_count": 129,
   "id": "81bc18a5-d00b-4587-882e-748c8b7200d0",
   "metadata": {
    "tags": []
   },
   "outputs": [],
   "source": [
    "learning_rate = 0.001\n",
    "num_epochs =5\n",
    "\n",
    "device = torch.device('cuda' if torch.cuda.is_available() else 'cpu')\n",
    "model = MyModel()\n",
    "model = model.to(device)\n",
    "criterion = nn.CrossEntropyLoss()\n",
    "optimizer = torch.optim.Adam(model.parameters(),lr = learning_rate)"
   ]
  },
  {
   "cell_type": "code",
   "execution_count": 136,
   "id": "9450721c-0904-4a3f-ba79-917d1c9eccc8",
   "metadata": {
    "tags": []
   },
   "outputs": [
    {
     "name": "stdout",
     "output_type": "stream",
     "text": [
      "Epoch 0|loss 0.4074 |Train Accuracy 0.90| F1_score: 0.89\n",
      "Epoch 1|loss 0.4041 |Train Accuracy 0.90| F1_score: 0.90\n",
      "Epoch 2|loss 0.3999 |Train Accuracy 0.91| F1_score: 0.90\n",
      "Epoch 3|loss 0.3991 |Train Accuracy 0.91| F1_score: 0.90\n",
      "Epoch 4|loss 0.3961 |Train Accuracy 0.91| F1_score: 0.91\n"
     ]
    }
   ],
   "source": [
    "for epoch in range(num_epochs):\n",
    "    train_running_loss =0.0\n",
    "    train_acc = 0.0\n",
    "    f1 = 0.0\n",
    "    for i, (stars,labels) in enumerate(train_dataloader):\n",
    "        stars = stars.to(device)\n",
    "        labels =labels.to(device)\n",
    "        \n",
    "        #forward + backprop +loss\n",
    "        logits = model(stars)\n",
    "\n",
    "        loss = criterion(logits,labels)\n",
    "        optimizer.zero_grad()\n",
    "        loss.backward()\n",
    "        \n",
    "        # update the model params\n",
    "        optimizer.step()\n",
    "        train_running_loss += loss.detach().item()\n",
    "        train_acc +=(torch.argmax(logits,1).flatten() == labels).type(torch.float).mean().item()\n",
    "        preds = torch.argmax(logits,1).flatten().cpu().numpy()\n",
    "        l = labels.cpu().numpy()\n",
    "        f1 += metrics.f1_score(l,preds)\n",
    "\n",
    "        \n",
    "    print('Epoch %d|loss %.4f |Train Accuracy %.2f| F1_score: %.2f' \\\n",
    "          %(epoch,train_running_loss/i,train_acc/i,f1/i))"
   ]
  },
  {
   "cell_type": "code",
   "execution_count": 132,
   "id": "f49371c7-3cd4-4194-8fc7-48698628958a",
   "metadata": {
    "tags": []
   },
   "outputs": [
    {
     "data": {
      "image/png": "[encoded data removed]",
      "text/plain": [
       "<Figure size 640x480 with 1 Axes>"
      ]
     },
     "metadata": {},
     "output_type": "display_data"
    }
   ],
   "source": [
    "import matplotlib.pyplot as plt\n",
    "model.eval()\n",
    "all_preds = []\n",
    "all_data = []\n",
    "with torch.no_grad():\n",
    "    for stars, labels in val_dataloader:\n",
    "        stars = stars.to(device)\n",
    "        outputs = model(stars)\n",
    "        preds = torch.argmax(outputs, dim=1).cpu().numpy()\n",
    "        all_preds.extend(preds)\n",
    "        all_data.extend(stars.cpu().numpy())\n",
    "\n",
    "# Convert predictions and data to DataFrame\n",
    "all_data = np.array(all_data).squeeze(1)\n",
    "all_preds = np.array(all_preds)\n",
    "test_df = pd.DataFrame(all_data, columns=data.columns[2:-1])\n",
    "test_df['preds'] = all_preds\n",
    "\n",
    "# Filter predicted values as 1 and plot\n",
    "predicted_ones = test_df[test_df['preds'] == 1]\n",
    "plt.scatter( predicted_ones['bp_rp'],predicted_ones['phot_g_mean_mag'],s = 0.1)\n",
    "plt.xlabel('photo_g_mean_mag')\n",
    "plt.ylabel('bp_rp')\n",
    "plt.ylim(22, 6)\n",
    "plt.xlim(-1, 4)\n",
    "plt.title('Predicted Values: 1')\n",
    "plt.show()"
   ]
  },
  {
   "cell_type": "code",
   "execution_count": 138,
   "id": "014b4986-dd3b-44c2-9ec1-18b7bad4c8a7",
   "metadata": {
    "tags": []
   },
   "outputs": [
    {
     "name": "stdout",
     "output_type": "stream",
     "text": [
      "Test Accuracy 0.92 | F1 Score 0.91 \n"
     ]
    }
   ],
   "source": [
    "test_acc = 0.0\n",
    "f1 = 0.0\n",
    "for i,(stars,labels) in enumerate(val_dataloader,0):\n",
    "    stars = stars.to(device)\n",
    "    labels = labels.to(device)\n",
    "    outputs = model(stars)\n",
    "    test_acc+=(torch.argmax(outputs,1).flatten() == labels).type(torch.float).mean().item()\n",
    "    preds = torch.argmax(outputs,1).flatten().cpu().numpy()\n",
    "    l = labels.cpu().numpy()\n",
    "    f1 += metrics.f1_score(l,preds)\n",
    "print(\"Test Accuracy %.2f | F1 Score %.2f \"%(test_acc/i,f1/i))"
   ]
  },
  {
   "cell_type": "markdown",
   "id": "782c8a8c-cbd5-4246-a93f-fca55f59688b",
   "metadata": {},
   "source": [
    "# Graph Neural Network"
   ]
  },
  {
   "cell_type": "code",
   "execution_count": null,
   "id": "8f06ed22-018a-4321-9376-9e70f5c88912",
   "metadata": {},
   "outputs": [],
   "source": []
  }
 ],
 "metadata": {
  "kernelspec": {
   "display_name": "(root) Python *",
   "language": "python",
   "name": "conda-root-py"
  },
  "language_info": {
   "codemirror_mode": {
    "name": "ipython",
    "version": 3
   },
   "file_extension": ".py",
   "mimetype": "text/x-python",
   "name": "python",
   "nbconvert_exporter": "python",
   "pygments_lexer": "ipython3",
   "version": "3.11.9"
  }
 },
 "nbformat": 4,
 "nbformat_minor": 5
}
