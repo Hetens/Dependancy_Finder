{
 "cells": [
  {
   "cell_type": "code",
   "execution_count": 1,
   "metadata": {},
   "outputs": [
    {
     "data": {
      "text/plain": [
       "True"
      ]
     },
     "execution_count": 1,
     "metadata": {},
     "output_type": "execute_result"
    }
   ],
   "source": [
    "import os \n",
    "from dotenv import load_dotenv\n",
    "load_dotenv()"
   ]
  },
  {
   "cell_type": "code",
   "execution_count": 2,
   "metadata": {},
   "outputs": [],
   "source": [
    "from openai import OpenAI\n",
    "import httpx\n",
    "import os\n",
    "\n",
    "# As mentioned in the above Note try to setup Dell certificate in your environment to avoid verify=False(SSL verification is disabled).\n",
    "http_client=httpx.Client(verify=False)\n",
    "client = OpenAI(\n",
    "    base_url='https://opensource-challenger-api.prdlvgpu1.aiaccel.dell.com/v1',\n",
    "    http_client=http_client,\n",
    "    api_key=os.environ['LLM_API']\n",
    ")"
   ]
  },
  {
   "cell_type": "code",
   "execution_count": 3,
   "metadata": {},
   "outputs": [
    {
     "data": {
      "text/plain": [
       "7601984"
      ]
     },
     "execution_count": 3,
     "metadata": {},
     "output_type": "execute_result"
    }
   ],
   "source": [
    "with open('../output.txt', 'r') as f:\n",
    "    required_prompt = f.read()\n",
    "len(required_prompt)"
   ]
  },
  {
   "cell_type": "code",
   "execution_count": 3,
   "metadata": {},
   "outputs": [
    {
     "name": "stdout",
     "output_type": "stream",
     "text": [
      "Model: mixtral-8x7b-instruct-v01\n"
     ]
    }
   ],
   "source": [
    "streaming = True\n",
    "max_output_tokens = 10000\n",
    "\n",
    "# Read the content of 'output.txt' as the required prompt\n",
    "with open('../output.txt', 'r') as f:\n",
    "    required_prompt = f.read()\n",
    "\n",
    "# Available Models list\n",
    "available_models = [\"mixtral-8x7b-instruct-v01\", \"llamaguard-7b\", \"gemma-7b-it\", \"mistral-7b-instruct-v02\", \"phi-2\", \"llama-2-70b-chat\", \"phi-3-mini-128k-instruct\", \"llama-3-8b-instruct\"]\n",
    "\n",
    "# Let's select the model from the available list\n",
    "model_selected = available_models[0]\n",
    "\n",
    "\n",
    "print(f\"Model: {model_selected}\")\n",
    "completion = client.completions.create(\n",
    "    model=model_selected,\n",
    "    max_tokens=max_output_tokens,\n",
    "    prompt=f'{required_prompt}\\n\\nGenerate test automation scripts on the given data to perform system-level testing.Only write the code for the different tests',\n",
    "    stream=streaming\n",
    ")\n",
    "\n",
    "if streaming:\n",
    "    for chunk in completion:\n",
    "        print(chunk.choices[0].text, end='')\n",
    "else:\n",
    "    print(completion.choices[0].text)\n"
   ]
  },
  {
   "cell_type": "code",
   "execution_count": null,
   "metadata": {},
   "outputs": [],
   "source": []
  }
 ],
 "metadata": {
  "kernelspec": {
   "display_name": "Python 3",
   "language": "python",
   "name": "python3"
  },
  "language_info": {
   "codemirror_mode": {
    "name": "ipython",
    "version": 3
   },
   "file_extension": ".py",
   "mimetype": "text/x-python",
   "name": "python",
   "nbconvert_exporter": "python",
   "pygments_lexer": "ipython3",
   "version": "3.12.4"
  }
 },
 "nbformat": 4,
 "nbformat_minor": 2
}
