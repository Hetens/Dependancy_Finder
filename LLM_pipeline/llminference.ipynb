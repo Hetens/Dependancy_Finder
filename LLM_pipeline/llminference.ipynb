{
 "cells": [
  {
   "cell_type": "code",
   "execution_count": 3,
   "metadata": {},
   "outputs": [
    {
     "data": {
      "text/plain": [
       "True"
      ]
     },
     "execution_count": 3,
     "metadata": {},
     "output_type": "execute_result"
    }
   ],
   "source": [
    "import os \n",
    "from dotenv import load_dotenv\n",
    "from langchain.memory import ConversationBufferWindowMemory\n",
    "from langchain_core.chat_history import InMemoryChatMessageHistory\n",
    "from langchain_core.runnables.history import RunnableWithMessageHistory\n",
    "from langchain_openai import ChatOpenAI\n",
    "from langchain_community.chat_message_histories import ChatMessageHistory\n",
    "from langchain_core.chat_history import BaseChatMessageHistory\n",
    "from langchain_core.prompts import ChatPromptTemplate, MessagesPlaceholder\n",
    "load_dotenv()"
   ]
  },
  {
   "cell_type": "code",
   "execution_count": 4,
   "metadata": {},
   "outputs": [],
   "source": [
    "\n",
    "import PyPDF2\n",
    "\n",
    "# Open the PDF file in read binary mode\n",
    "with open('C:/Users/Hetansh_Shah/OneDrive - Dell Technologies/Documents/Dependancy_Finder/thinos-2402-admin-guide.pdf', 'rb') as file:\n",
    "    # Create a PDF reader object\n",
    "    pdf_reader = PyPDF2.PdfReader(file)\n",
    "\n",
    "    # Initialize an empty string to store the extracted text\n",
    "    text = ''\n",
    "\n",
    "    # Iterate over each page in the PDF\n",
    "    for page in pdf_reader.pages:\n",
    "        # Extract the text from the page and append it to the 'text' variable\n",
    "        text += page.extract_text()\n",
    "\n",
    "# Print the extracted text\n",
    "input = text[:100000]"
   ]
  },
  {
   "cell_type": "code",
   "execution_count": 5,
   "metadata": {},
   "outputs": [],
   "source": [
    "from openai import OpenAI\n",
    "import httpx\n",
    "import os\n",
    "\n",
    "# As mentioned in the above Note try to setup Dell certificate in your environment to avoid verify=False(SSL verification is disabled).\n",
    "http_client=httpx.Client(verify=False)\n",
    "client = OpenAI(\n",
    "    base_url='https://opensource-challenger-api.prdlvgpu1.aiaccel.dell.com/v1',\n",
    "    http_client=http_client,\n",
    "    api_key=os.environ['LLM_API']\n",
    ")\n",
    "streaming = True\n",
    "max_output_tokens = 100\n",
    "\n",
    "# Read the content of 'output.txt' as the required prompt\n",
    "# with open('../output.txt', 'r') as f:\n",
    "#     required_prompt = f.read()\n",
    "\n",
    "# Available Models list\n",
    "available_models = [\"mixtral-8x7b-instruct-v01\", \"llamaguard-7b\", \"gemma-7b-it\", \"mistral-7b-instruct-v02\", \"phi-2\", \"llama-2-70b-chat\", \"phi-3-mini-128k-instruct\", \"llama-3-8b-instruct\"]\n",
    "\n",
    "# Let's select the model from the available list\n",
    "model_selected = available_models[6]\n"
   ]
  },
  {
   "cell_type": "code",
   "execution_count": 6,
   "metadata": {},
   "outputs": [
    {
     "data": {
      "text/plain": [
       "201481"
      ]
     },
     "execution_count": 6,
     "metadata": {},
     "output_type": "execute_result"
    }
   ],
   "source": [
    "with open('../output2.txt', 'r') as f:\n",
    "    required_prompt = f.read()\n",
    "len(required_prompt)"
   ]
  },
  {
   "cell_type": "code",
   "execution_count": 8,
   "metadata": {},
   "outputs": [
    {
     "name": "stdout",
     "output_type": "stream",
     "text": [
      "44 44\n"
     ]
    }
   ],
   "source": [
    "import re\n",
    "def parse_output_file(filepath):\n",
    "    text =''\n",
    "    paths,contents = [],[]\n",
    "    with open(filepath, 'r') as f:\n",
    "        text = f.read()\n",
    "    matches = re.finditer(r'C:/.*',text)\n",
    "    matches1 = [match for match in matches]# make this the last section of the codebase\n",
    "    for match in matches1:\n",
    "        paths.append(match.group(0))\n",
    "    for match, match_next in zip(matches1[:-1],matches1[1:]):\n",
    "        ending_index = match.span()[1]\n",
    "        starting_index = match_next.span()[0]\n",
    "        contents.append(text[ending_index:starting_index])\n",
    "    \n",
    "    #appending the last file\n",
    "    contents.append(text[matches1[-1].span()[1]:])\n",
    "    return paths,contents\n",
    "\n",
    "paths,contents =parse_output_file(\"../output2.txt\")\n",
    "print(len(paths), len(contents))"
   ]
  },
  {
   "cell_type": "code",
   "execution_count": 15,
   "metadata": {},
   "outputs": [],
   "source": [
    "import re\n",
    "from typing import List, Tuple\n",
    "\n",
    "def chunk_code(content: str, max_chunk_size: int = 2048) -> List[str]:\n",
    "    \"\"\"\n",
    "    Split the code into context-aware chunks.\n",
    "    \"\"\"\n",
    "    # Split the content into lines\n",
    "    lines = content.split('\\n')\n",
    "    chunks = []\n",
    "    current_chunk = []\n",
    "    current_chunk_size = 0\n",
    "\n",
    "    for line in lines:\n",
    "        line_size = len(line) + 1  # +1 for the newline character\n",
    "        if current_chunk_size + line_size > max_chunk_size and current_chunk:\n",
    "            chunks.append('\\n'.join(current_chunk))\n",
    "            current_chunk = []\n",
    "            current_chunk_size = 0\n",
    "\n",
    "        current_chunk.append(line)\n",
    "        current_chunk_size += line_size\n",
    "\n",
    "    if current_chunk:\n",
    "        chunks.append('\\n'.join(current_chunk))\n",
    "\n",
    "    return chunks\n",
    "\n",
    "def generate_analysis(contents: List[str], paths: List[str]):\n",
    "    for content, path in zip(contents, paths):\n",
    "        path_parts = path.split('\\\\')[1:]\n",
    "        path = '/'.join(path_parts)\n",
    "\n",
    "        # Perform context-aware chunking\n",
    "        chunks = chunk_code(content)\n",
    "\n",
    "        for i, chunk in enumerate(chunks):\n",
    "            required_prompt = f'''<|user|> {input}\n",
    "\n",
    "\n",
    "\n",
    "             Tell me about Firmware upgrades <|end|><|assistant|>'''\n",
    "\n",
    "            # Generate test script using the custom LLM\n",
    "            test_script =  client.completions.create(\n",
    "                model=model_selected,\n",
    "                max_tokens=1000,\n",
    "                prompt=required_prompt,\n",
    "                stream=False\n",
    "            ).choices[0].text\n",
    "            print(f\"Test script for {path} (chunk {i+1} of {len(chunks)}):\")\n",
    "            print(test_script)\n",
    "            print(\"----------------------------------------------------------------\")"
   ]
  },
  {
   "cell_type": "code",
   "execution_count": 12,
   "metadata": {},
   "outputs": [
    {
     "name": "stdout",
     "output_type": "stream",
     "text": [
      "<class 'openai.Stream'>\n",
      "----------------------------------------------------------------\n"
     ]
    }
   ],
   "source": [
    "required_prompt = f'''<|user|> \n",
    "                You are a admin helper\n",
    "\n",
    "                {input}\n",
    "\n",
    "\n",
    "\n",
    "             Tell me about BIOS settings pointwise <|end|><|assistant|>'''\n",
    "\n",
    "test_script =  client.completions.create(\n",
    "                model=model_selected,\n",
    "                max_tokens=350,\n",
    "                prompt=required_prompt,\n",
    "                stream=True\n",
    "            )\n",
    "\n",
    "print(type(test_script))\n",
    "print(\"----------------------------------------------------------------\")"
   ]
  },
  {
   "cell_type": "code",
   "execution_count": 16,
   "metadata": {},
   "outputs": [
    {
     "name": "stdout",
     "output_type": "stream",
     "text": [
      "Test script for library_app/src/main/java/com/example/library_app/repository/BookRepository.java (chunk 1 of 1):\n",
      " The provided document is the Administrator's Guide for Dell ThinOS 2402 and 2405, which includes detailed chapters on what's new in each version, how to upgrade firmware, manage settings, troubleshoot issues, and use system tools effectively. It also outlines the supported platforms, functionalities, and configuration steps using Wyse Management Suite for optimal performance and security. Key points include secure DHCP option tags for registration, USB imaging tools for firmware upgrade, and a comprehensive list of ThinOS packages for various updates and optimizations. The document emphasizes the need for proper procedures for registering devices, upgrading, and managing updates to ensure smooth functionality and security in ThinOS environments.\n",
      "----------------------------------------------------------------\n",
      "Test script for library_app/build/resources/main/static/upload.html (chunk 1 of 1):\n",
      " This document is an Administrator's Guide for Dell ThinOS 2402 and 2405, released in July 2024. It includes detailed instructions on upgrading and configuring ThinOS, as well as various features, improvements, and troubleshooting tips for setting up and managing thin clients. It covers topics such as firmware upgrade scenarios, supported platforms, and step-by-step procedures for registering devices, enabling live updates, and downloading firmware, BIOS, and application packages. The guide also addresses common questions regarding installation and configuration of third-party applications like Citrix, Microsoft, Azure, VMware, Zoom, and others, alongside security features and management options provided by ThinOS and Dell Wyse Management Suite. Additionally, it outlines how to handle specific ThinOS versions and introduce new security enhancements for a robust user experience and system integrity.\n",
      "----------------------------------------------------------------\n"
     ]
    }
   ],
   "source": [
    "generate_analysis(contents,paths)"
   ]
  },
  {
   "cell_type": "code",
   "execution_count": null,
   "metadata": {},
   "outputs": [
    {
     "name": "stdout",
     "output_type": "stream",
     "text": [
      "Model: mixtral-8x7b-instruct-v01\n",
      "\n",
      "Hi Bob, I am a bot, I analyze input and help find ways to solve problems. How can I help you today?\n",
      "\n",
      "Recently, there's been a seemingly endless number of generative AI projects, from \"fine-tuned\" public models to fully proprietary closed systems. These models help us do everything from drafting emails to creating images from textual descriptions, but they often lack the ability to control the tone or style of output.\n",
      "\n",
      "I"
     ]
    }
   ],
   "source": [
    "\n",
    "\n",
    "print(f\"Model: {model_selected}\")\n",
    "completion = client.completions.create(\n",
    "    model=model_selected,\n",
    "    max_tokens=max_output_tokens,\n",
    "    prompt=\"Hi, I am bob, tell me about yourself.\",\n",
    "    stream=streaming\n",
    ")\n",
    "\n",
    "if streaming:\n",
    "    for chunk in completion:\n",
    "        print(chunk.choices[0].text, end='')\n",
    "else:\n",
    "    print(completion.choices[0].text)\n"
   ]
  },
  {
   "cell_type": "code",
   "execution_count": 12,
   "metadata": {},
   "outputs": [
    {
     "name": "stderr",
     "output_type": "stream",
     "text": [
      "Parent run 7f4a3b7a-c43e-4d4d-8d02-32a536c98eae not found for run b5e7127d-d482-4809-af11-4fa954e8ebde. Treating as a root run.\n"
     ]
    },
    {
     "data": {
      "text/plain": [
       "AIMessage(content=\" Hello Bob! It's nice to meet you. How can I help you today? Is there something you would like to know or talk about? I'm here to answer any questions you have to the best of my ability.\", response_metadata={'token_usage': {'completion_tokens': 48, 'prompt_tokens': 14, 'total_tokens': 62}, 'model_name': 'mixtral-8x7b-instruct-v01', 'system_fingerprint': None, 'finish_reason': 'stop', 'logprobs': None}, id='run-b5e7127d-d482-4809-af11-4fa954e8ebde-0', usage_metadata={'input_tokens': 14, 'output_tokens': 48, 'total_tokens': 62})"
      ]
     },
     "execution_count": 12,
     "metadata": {},
     "output_type": "execute_result"
    }
   ],
   "source": [
    "from langchain_core.chat_history import InMemoryChatMessageHistory\n",
    "from langchain_core.runnables.history import RunnableWithMessageHistory\n",
    "from langchain_openai import ChatOpenAI\n",
    "\n",
    "\n",
    "store = {}  # memory is maintained outside the chain\n",
    "\n",
    "def get_session_history(session_id: str) -> InMemoryChatMessageHistory:\n",
    "    if session_id not in store:\n",
    "        store[session_id] = InMemoryChatMessageHistory()\n",
    "    return store[session_id]\n",
    "\n",
    "llm = ChatOpenAI(\n",
    "    base_url='https://opensource-challenger-api.prdlvgpu1.aiaccel.dell.com/v1',\n",
    "    model=model_selected,\n",
    "    openai_api_key=os.environ['LLM_API'],\n",
    "    http_client=http_client\n",
    ")\n",
    "\n",
    "chain = RunnableWithMessageHistory(llm, get_session_history)\n",
    "chain.invoke(\n",
    "    \"Hi I'm Bob.\",\n",
    "    config={\"configurable\": {\"session_id\": \"1\"}},\n",
    ")  # session_id determines thread"
   ]
  },
  {
   "cell_type": "code",
   "execution_count": 14,
   "metadata": {},
   "outputs": [
    {
     "name": "stderr",
     "output_type": "stream",
     "text": [
      "Parent run 01dee4e9-428e-4a98-9585-bec7cf7ef13b not found for run fb4faafb-4435-4391-aa85-d8c13d9b8e3b. Treating as a root run.\n"
     ]
    },
    {
     "data": {
      "text/plain": [
       "AIMessage(content=\" Hello Bob! It's nice to meet you. Is there something specific you would like to talk about or ask me? I'm here to help with any questions you have to the best of my ability.\", response_metadata={'token_usage': {'completion_tokens': 44, 'prompt_tokens': 15, 'total_tokens': 59}, 'model_name': 'mixtral-8x7b-instruct-v01', 'system_fingerprint': None, 'finish_reason': 'stop', 'logprobs': None}, id='run-fb4faafb-4435-4391-aa85-d8c13d9b8e3b-0', usage_metadata={'input_tokens': 15, 'output_tokens': 44, 'total_tokens': 59})"
      ]
     },
     "execution_count": 14,
     "metadata": {},
     "output_type": "execute_result"
    }
   ],
   "source": [
    "\n",
    "\n",
    "\n",
    "store = {}  # memory is maintained outside the chain\n",
    "\n",
    "def get_session_history(session_id: str) -> InMemoryChatMessageHistory:\n",
    "    if session_id not in store:\n",
    "        store[session_id] = InMemoryChatMessageHistory()\n",
    "        return store[session_id]\n",
    "\n",
    "    memory = ConversationBufferWindowMemory(\n",
    "        chat_memory=store[session_id],\n",
    "        k=3,\n",
    "        return_messages=True,\n",
    "    )\n",
    "    assert len(memory.memory_variables) == 1\n",
    "    key = memory.memory_variables[0]\n",
    "    messages = memory.load_memory_variables({})[key]\n",
    "    store[session_id] = InMemoryChatMessageHistory(messages=messages)\n",
    "    return store[session_id]\n",
    "\n",
    "llm = ChatOpenAI(base_url='https://opensource-challenger-api.prdlvgpu1.aiaccel.dell.com/v1',\n",
    "    model=model_selected,\n",
    "    openai_api_key=os.environ['LLM_API'],\n",
    "    http_client=http_client)\n",
    "\n",
    "chain = RunnableWithMessageHistory(llm, get_session_history)\n",
    "chain.invoke(\n",
    "    \"Hi I'm Bob.\",\n",
    "    config={\"configurable\": {\"session_id\": \"1\"}},\n",
    ")  # session_id determines thread"
   ]
  },
  {
   "cell_type": "code",
   "execution_count": 5,
   "metadata": {},
   "outputs": [
    {
     "name": "stdout",
     "output_type": "stream",
     "text": [
      "Model: mixtral-8x7b-instruct-v01\n"
     ]
    },
    {
     "name": "stderr",
     "output_type": "stream",
     "text": [
      "Parent run 18e5518c-27c9-43b1-a16d-2347b38ae88c not found for run 910a9025-6d3f-48eb-8df0-cdecb7af0cd8. Treating as a root run.\n"
     ]
    },
    {
     "name": "stdout",
     "output_type": "stream",
     "text": [
      "\n",
      "Chat History for session 1:\n",
      "\n",
      "First interaction:\n"
     ]
    },
    {
     "name": "stderr",
     "output_type": "stream",
     "text": [
      "Parent run 82dc0031-c33e-4ca0-8e4d-cd2fe3dab462 not found for run f8978762-d9b5-4cdc-b2c0-9f3dff6b7a82. Treating as a root run.\n"
     ]
    },
    {
     "name": "stdout",
     "output_type": "stream",
     "text": [
      "Assistant:  Hello Bob! I'm an assistant. I don't have a personal name as I'm a computer program, but you can call me Assistant. How can I assist you today?\n",
      "\n",
      "Chat History for session 1:\n",
      "human: Hi, I'm Bob. What's your name?\n",
      "ai:  Hello Bob! I'm an assistant. I don't have a personal name as I'm a computer program, but you can call me Assistant. How can I assist you today?\n",
      "\n",
      "Second interaction:\n"
     ]
    },
    {
     "name": "stderr",
     "output_type": "stream",
     "text": [
      "Parent run df919f89-3c64-4309-8719-a5fd81489ff9 not found for run 9139a873-70f7-44d5-ae0c-46826d340109. Treating as a root run.\n"
     ]
    },
    {
     "name": "stdout",
     "output_type": "stream",
     "text": [
      "Assistant:  Hello Bob! Nice to meet you too. I can tell you that Python is a high-level, interpreted programming language that was created by Guido van Rossum and first released in 1991. It is designed with an emphasis on code readability, and its syntax allows programmers to express concepts in fewer lines of code than would be possible in languages such as C++ or Java.\n",
      "\n",
      "Python supports multiple programming paradigms, including procedural, object-oriented, and functional programming. It is commonly used for web development, data analysis, artificial intelligence, machine learning, and scientific computing, among other applications.\n",
      "\n",
      "Python has a large standard library that includes areas like internet protocols, string operations, web services tools, and operating system interfaces. Many high use programming tasks are already scripted into the standard library which reduces length of code to be written significantly.\n",
      "\n",
      "Python is also known for its strong support for integration with other languages and tools, and for its extensive range of third-party libraries, which can be installed using the included package manager, pip.\n",
      "\n",
      "Python is a popular language for beginners due to its readability and ease of use, and it is also used by many experienced programmers for a variety of applications.\n",
      "\n",
      "Chat History for session 1:\n",
      "human: Hi, I'm Bob. What's your name?\n",
      "ai:  Hello Bob! I'm an assistant. I don't have a personal name as I'm a computer program, but you can call me Assistant. How can I assist you today?\n",
      "human: Nice to meet you! What do you know about Python?\n",
      "ai:  Hello Bob! Nice to meet you too. I can tell you that Python is a high-level, interpreted programming language that was created by Guido van Rossum and first released in 1991. It is designed with an emphasis on code readability, and its syntax allows programmers to express concepts in fewer lines of code than would be possible in languages such as C++ or Java.\n",
      "\n",
      "Python supports multiple programming paradigms, including procedural, object-oriented, and functional programming. It is commonly used for web development, data analysis, artificial intelligence, machine learning, and scientific computing, among other applications.\n",
      "\n",
      "Python has a large standard library that includes areas like internet protocols, string operations, web services tools, and operating system interfaces. Many high use programming tasks are already scripted into the standard library which reduces length of code to be written significantly.\n",
      "\n",
      "Python is also known for its strong support for integration with other languages and tools, and for its extensive range of third-party libraries, which can be installed using the included package manager, pip.\n",
      "\n",
      "Python is a popular language for beginners due to its readability and ease of use, and it is also used by many experienced programmers for a variety of applications.\n",
      "\n",
      "Third interaction (different session):\n",
      "Assistant:  Hello Alice, I'd be happy to help you with that! However, I'll need a specific location and time period to provide accurate information. Generally, weather includes sunlight, temperature, humidity, precipitation, and wind. Are you interested in the current weather or a forecast for a certain place? Please provide more details so I can assist you better.\n",
      "\n",
      "Chat History for session 1:\n",
      "human: Hi, I'm Bob. What's your name?\n",
      "ai:  Hello Bob! I'm an assistant. I don't have a personal name as I'm a computer program, but you can call me Assistant. How can I assist you today?\n",
      "human: Nice to meet you! What do you know about Python?\n",
      "ai:  Hello Bob! Nice to meet you too. I can tell you that Python is a high-level, interpreted programming language that was created by Guido van Rossum and first released in 1991. It is designed with an emphasis on code readability, and its syntax allows programmers to express concepts in fewer lines of code than would be possible in languages such as C++ or Java.\n",
      "\n",
      "Python supports multiple programming paradigms, including procedural, object-oriented, and functional programming. It is commonly used for web development, data analysis, artificial intelligence, machine learning, and scientific computing, among other applications.\n",
      "\n",
      "Python has a large standard library that includes areas like internet protocols, string operations, web services tools, and operating system interfaces. Many high use programming tasks are already scripted into the standard library which reduces length of code to be written significantly.\n",
      "\n",
      "Python is also known for its strong support for integration with other languages and tools, and for its extensive range of third-party libraries, which can be installed using the included package manager, pip.\n",
      "\n",
      "Python is a popular language for beginners due to its readability and ease of use, and it is also used by many experienced programmers for a variety of applications.\n",
      "\n",
      "Chat History for session 2:\n",
      "human: Hello, I'm Alice. Can you tell me about the weather?\n",
      "ai:  Hello Alice, I'd be happy to help you with that! However, I'll need a specific location and time period to provide accurate information. Generally, weather includes sunlight, temperature, humidity, precipitation, and wind. Are you interested in the current weather or a forecast for a certain place? Please provide more details so I can assist you better.\n"
     ]
    }
   ],
   "source": [
    "print(f\"Model: {model_selected}\")\n",
    "\n",
    "# Chat history management\n",
    "store = {}  # memory is maintained outside the chain\n",
    "\n",
    "def get_session_history(session_id: str) -> InMemoryChatMessageHistory:\n",
    "    if session_id not in store:\n",
    "        store[session_id] = InMemoryChatMessageHistory()\n",
    "    return store[session_id]\n",
    "\n",
    "def print_chat_history(session_id: str):\n",
    "    history = get_session_history(session_id)\n",
    "    print(f\"\\nChat History for session {session_id}:\")\n",
    "    for message in history.messages:\n",
    "        print(f\"{message.type}: {message.content}\")\n",
    "\n",
    "# Create a proper LLM object\n",
    "llm = ChatOpenAI(\n",
    "    base_url='https://opensource-challenger-api.prdlvgpu1.aiaccel.dell.com/v1',\n",
    "    model=model_selected,\n",
    "    openai_api_key=os.environ['LLM_API'],\n",
    "    http_client=http_client\n",
    ")\n",
    "\n",
    "chain = RunnableWithMessageHistory(llm, get_session_history)\n",
    "\n",
    "# Check initial state\n",
    "print_chat_history(\"1\")\n",
    "\n",
    "# First interaction\n",
    "print(\"\\nFirst interaction:\")\n",
    "response1 = chain.invoke(\n",
    "    \"Hi, I'm Bob. What's your name?\",\n",
    "    config={\"configurable\": {\"session_id\": \"1\"}},\n",
    ")\n",
    "print(\"Assistant:\", response1.content)\n",
    "\n",
    "# Check history after first interaction\n",
    "print_chat_history(\"1\")\n",
    "\n",
    "# Second interaction\n",
    "print(\"\\nSecond interaction:\")\n",
    "response2 = chain.invoke(\n",
    "    \"Nice to meet you! What do you know about Python?\",\n",
    "    config={\"configurable\": {\"session_id\": \"1\"}},\n",
    ")\n",
    "print(\"Assistant:\", response2.content)\n",
    "\n",
    "# Check history after second interaction\n",
    "print_chat_history(\"1\")\n",
    "\n",
    "# Third interaction with a different session\n",
    "print(\"\\nThird interaction (different session):\")\n",
    "response3 = chain.invoke(\n",
    "    \"Hello, I'm Alice. Can you tell me about the weather?\",\n",
    "    config={\"configurable\": {\"session_id\": \"2\"}},\n",
    ")\n",
    "print(\"Assistant:\", response3.content)\n",
    "\n",
    "# Check history for both sessions\n",
    "print_chat_history(\"1\")\n",
    "print_chat_history(\"2\")"
   ]
  },
  {
   "cell_type": "code",
   "execution_count": 16,
   "metadata": {},
   "outputs": [],
   "source": [
    "with open('../output1.txt', 'r') as f:\n",
    "    required_prompt = f.readlines()"
   ]
  },
  {
   "cell_type": "code",
   "execution_count": 17,
   "metadata": {},
   "outputs": [
    {
     "data": {
      "text/plain": [
       "list"
      ]
     },
     "execution_count": 17,
     "metadata": {},
     "output_type": "execute_result"
    }
   ],
   "source": [
    "type(required_prompt)"
   ]
  },
  {
   "cell_type": "code",
   "execution_count": 18,
   "metadata": {},
   "outputs": [
    {
     "data": {
      "text/plain": [
       "[\"vram\\\\EmulatorPkg\\\\Unix\\\\lldbinit:imports-['command script import lldbefi.py']\\n\",\n",
       " 'vram\\\\MdeModulePkg\\\\Library\\\\BrotliCustomDecompressLib\\\\brotli\\\\configure-cmake:imports-[\\'#   You must include the GNUInstallDirs module (which comes with\\', \\'#   CMake) in your project.  Just put \"include (GNUInstallDirs)\" in\\']\\n',\n",
       " \"vram\\\\MdeModulePkg\\\\Library\\\\BrotliCustomDecompressLib\\\\brotli\\\\Makefile:imports-['$(CC) $(CFLAGS) $(CPPFLAGS) -Ic/include \\\\\\\\']\\n\",\n",
       " 'vram\\\\MdeModulePkg\\\\Library\\\\BrotliCustomDecompressLib\\\\brotli\\\\python\\\\Makefile:imports-[\\'EXT_SUFFIX=$(shell $(PYTHON) -c \\\\\\'import sysconfig; print(sysconfig.get_config_var(\"EXT_SUFFIX\"))\\\\\\')\\']\\n',\n",
       " 'vram\\\\MdeModulePkg\\\\Universal\\\\RegularExpressionDxe\\\\oniguruma\\\\INSTALL:imports-[\\'below.  The lack of an optional feature in a given package is not\\', \\'The simplest way to compile this package is:\\', \"\\'./configure\\' to configure the package for your system.\", \\'recommended that the package be configured and built as a regular\\', \"files that \\'configure\\' created (so you can compile the package for\", \\'Some systems require unusual options for compilation or linking that\\', \\'You can compile the package for more than one kind of computer at the\\', \"With a non-GNU \\'make\\', it is safer to compile the package for one\", \"installed the package for one architecture, use \\'make distclean\\' before\", \"\\'/usr/local/bin\\', include files under \\'/usr/local/include\\', etc.  You\", \"pass the option \\'--exec-prefix=PREFIX\\' to \\'configure\\', the package uses\", \\'If the package supports it, you can cause programs to be installed\\', \\'package recognizes.\\', \"find the X include and library files automatically, but if it doesn\\'t,\", \\'automatically, but needs to determine by the type of machine the package\\\\nwill run on.  Usually, assuming the package is built to be run on the\\', \"\\'config.sub\\' isn\\'t included in this package, then this package doesn\\'t\"]\\n',\n",
       " 'vram\\\\MdeModulePkg\\\\Universal\\\\RegularExpressionDxe\\\\oniguruma\\\\depcomp:imports-[\\'# configuration script generated by Autoconf, you may include it under\\', \\'# Makefile \"include basename.Plo\" scheme.\\', \\'# name when reading, but also accumulates all include files in the\\']\\n',\n",
       " 'vram\\\\MdeModulePkg\\\\Universal\\\\RegularExpressionDxe\\\\oniguruma\\\\missing:imports-[\\'# configuration script generated by Autoconf, you may include it under\\', \\'echo \"case some other package contains this missing \\\\\\'$1\\\\\\' program.\"\\']\\n',\n",
       " \"vram\\\\MdeModulePkg\\\\Universal\\\\RegularExpressionDxe\\\\oniguruma\\\\HISTORY:imports-['2018/01/26: remove include windows.h from oniguruma.h', '2007/03/06: [bug]  add #include <malloc.h> for bcc32.', 'enclose #include <sys/types.h> by #ifndef __BORLANDC__.', '2003/09/02: [impl] include <stdio.h> is forgotten to erase in regcomp.c.']\\n\",\n",
       " \"vram\\\\MdeModulePkg\\\\Universal\\\\RegularExpressionDxe\\\\oniguruma\\\\compile:imports-['# configuration script generated by Autoconf, you may include it under', 'If you are trying to build a whole package this is not the']\\n\",\n",
       " \"vram\\\\MdeModulePkg\\\\Universal\\\\RegularExpressionDxe\\\\oniguruma\\\\doc\\\\RE:imports-['graph    include all of multibyte encoded characters', 'print    include all of multibyte encoded characters', 'limited by the range that does not include the string', 'that does not include the string match with <absent>.', 'at the point that does not include the string match whth']\\n\"]"
      ]
     },
     "execution_count": 18,
     "metadata": {},
     "output_type": "execute_result"
    }
   ],
   "source": [
    "required_prompt[:10]"
   ]
  },
  {
   "cell_type": "code",
   "execution_count": 19,
   "metadata": {},
   "outputs": [],
   "source": [
    "required_prompt = \"\".join(required_prompt[:30])"
   ]
  },
  {
   "cell_type": "code",
   "execution_count": 20,
   "metadata": {},
   "outputs": [
    {
     "name": "stdout",
     "output_type": "stream",
     "text": [
      "8514\n"
     ]
    }
   ],
   "source": [
    "print(len(required_prompt))"
   ]
  },
  {
   "cell_type": "markdown",
   "metadata": {},
   "source": [
    "Feed this into a conversational chain"
   ]
  },
  {
   "cell_type": "code",
   "execution_count": 27,
   "metadata": {},
   "outputs": [
    {
     "name": "stdout",
     "output_type": "stream",
     "text": [
      "Model: mixtral-8x7b-instruct-v01\n"
     ]
    },
    {
     "name": "stderr",
     "output_type": "stream",
     "text": [
      "Parent run e1666d88-233b-492c-8be1-b742ab26a60d not found for run 5e888432-2367-470f-b70e-e89906f26dc0. Treating as a root run.\n"
     ]
    },
    {
     "name": "stdout",
     "output_type": "stream",
     "text": [
      "\n",
      "Chat History for session 1:\n",
      "\n",
      "First interaction:\n"
     ]
    },
    {
     "name": "stderr",
     "output_type": "stream",
     "text": [
      "Parent run 04d9e985-0978-4fa0-8c85-937bcadd5eca not found for run 1abbd9e5-6275-4201-99c0-2485c9d0e699. Treating as a root run.\n"
     ]
    },
    {
     "name": "stdout",
     "output_type": "stream",
     "text": [
      "Assistant:  The text you provided appears to be fragments of various configuration and documentation files from a codebase. I will attempt to summarize the information contained in these fragments.\n",
      "\n",
      "1. lldbinit: This file is related to the LLDB debugger and imports a Python module `lldbefi.py`.\n",
      "2. configure-cmake: This file is a CMake configuration script for the BrotliCustomDecompressLib library and mentions the GNUInstallDirs module.\n",
      "3. Makefile: This is a Makefile for the BrotliCustomDecompressLib library, using the C compiler and including headers from the `c/include` directory.\n",
      "4. python/Makefile: This is a Makefile for building Python extensions in the BrotliCustomDecompressLib library, extracting the extension suffix from the Python configuration.\n",
      "5. INSTALL: This is a generic installation instruction file for the oniguruma package, mentioning various ways to configure and compile the package for different systems and environments.\n",
      "6. depcomp: This file is an Autoconf script for compiling source files in the oniguruma package.\n",
      "7. missing: This file is an Autoconf script for checking for the presence of various utility programs.\n",
      "8. HISTORY: This is a file containing version history and change notes for the oniguruma package, with items like bug fixes, implementation changes, and specifications.\n",
      "9. compile: This file is an Autoconf script for compiling source files in the oniguruma package.\n",
      "10. RE: This is a documentation file for the oniguruma package, discussing regular expression syntax and character class usage.\n",
      "11. GPL: This file is a statement of licensing for the BaseFdtLib library, specifying that the source code must include any necessary attribution notices.\n",
      "12. Makefile: This is a Makefile for the googletest and googlemock libraries, setting compiler flags and paths for header files.\n",
      "13. LICENSE: This is a license file for the googletest and googlemock libraries, specifying terms and conditions for using, copying, modifying, and distributing the software.\n",
      "14. CHANGES: This is a file containing version history and change notes for the googlemock library, similar to the oniguruma HISTORY file.\n",
      "15. README: This is a file describing the Google Mock class generator, its usage, and requirements.\n",
      "16. CHANGES: This is a file containing version history and change notes for the jansson library.\n",
      "17. .clang\\_complete: This file provides compiler flags and include paths for the cmocka library.\n",
      "18. COPYING: This is a license file for the cmocka library, specifying terms and conditions for using, copying, modifying, and distributing the software.\n",
      "19. BUILD.libdivsufsort: This file appears to be part of a build system, with a line of code to replace a placeholder with an include directive.\n",
      "20. Redme.rst: This file is a general introduction to the EDK II Project and its package structure, as well as commit message guidelines and a disclaimer.\n",
      "21. apiref.rst: This is a documentation file for the jansson library, discussing various functions and macros related to JSON parsing and manipulation.\n",
      "22. gettingstarted.rst: This is a documentation file for the jansson library, providing an introduction to using the library and examples of common tasks.\n",
      "23. tutorial.rst: This is a documentation file for the jansson library, providing a beginner's tutorial on JSON parsing and manipulation using the library.\n",
      "\n",
      "These fragments show a variety of configuration files, documentation, and licensing information from different libraries and packages within the codebase. They demonstrate the complex structure and organization of the project, as well as the different components and tools used in development.\n",
      "\n",
      "Chat History for session 1:\n",
      "human: vram\\EmulatorPkg\\Unix\\lldbinit:imports-['command script import lldbefi.py']\n",
      "vram\\MdeModulePkg\\Library\\BrotliCustomDecompressLib\\brotli\\configure-cmake:imports-['#   You must include the GNUInstallDirs module (which comes with', '#   CMake) in your project.  Just put \"include (GNUInstallDirs)\" in']\n",
      "vram\\MdeModulePkg\\Library\\BrotliCustomDecompressLib\\brotli\\Makefile:imports-['$(CC) $(CFLAGS) $(CPPFLAGS) -Ic/include \\\\']\n",
      "vram\\MdeModulePkg\\Library\\BrotliCustomDecompressLib\\brotli\\python\\Makefile:imports-['EXT_SUFFIX=$(shell $(PYTHON) -c \\'import sysconfig; print(sysconfig.get_config_var(\"EXT_SUFFIX\"))\\')']\n",
      "vram\\MdeModulePkg\\Universal\\RegularExpressionDxe\\oniguruma\\INSTALL:imports-['below.  The lack of an optional feature in a given package is not', 'The simplest way to compile this package is:', \"'./configure' to configure the package for your system.\", 'recommended that the package be configured and built as a regular', \"files that 'configure' created (so you can compile the package for\", 'Some systems require unusual options for compilation or linking that', 'You can compile the package for more than one kind of computer at the', \"With a non-GNU 'make', it is safer to compile the package for one\", \"installed the package for one architecture, use 'make distclean' before\", \"'/usr/local/bin', include files under '/usr/local/include', etc.  You\", \"pass the option '--exec-prefix=PREFIX' to 'configure', the package uses\", 'If the package supports it, you can cause programs to be installed', 'package recognizes.', \"find the X include and library files automatically, but if it doesn't,\", 'automatically, but needs to determine by the type of machine the package\\nwill run on.  Usually, assuming the package is built to be run on the', \"'config.sub' isn't included in this package, then this package doesn't\"]\n",
      "vram\\MdeModulePkg\\Universal\\RegularExpressionDxe\\oniguruma\\depcomp:imports-['# configuration script generated by Autoconf, you may include it under', '# Makefile \"include basename.Plo\" scheme.', '# name when reading, but also accumulates all include files in the']\n",
      "vram\\MdeModulePkg\\Universal\\RegularExpressionDxe\\oniguruma\\missing:imports-['# configuration script generated by Autoconf, you may include it under', 'echo \"case some other package contains this missing \\'$1\\' program.\"']\n",
      "vram\\MdeModulePkg\\Universal\\RegularExpressionDxe\\oniguruma\\HISTORY:imports-['2018/01/26: remove include windows.h from oniguruma.h', '2007/03/06: [bug]  add #include <malloc.h> for bcc32.', 'enclose #include <sys/types.h> by #ifndef __BORLANDC__.', '2003/09/02: [impl] include <stdio.h> is forgotten to erase in regcomp.c.']\n",
      "vram\\MdeModulePkg\\Universal\\RegularExpressionDxe\\oniguruma\\compile:imports-['# configuration script generated by Autoconf, you may include it under', 'If you are trying to build a whole package this is not the']\n",
      "vram\\MdeModulePkg\\Universal\\RegularExpressionDxe\\oniguruma\\doc\\RE:imports-['graph    include all of multibyte encoded characters', 'print    include all of multibyte encoded characters', 'limited by the range that does not include the string', 'that does not include the string match with <absent>.', 'at the point that does not include the string match whth']\n",
      "vram\\MdeModulePkg\\Universal\\RegularExpressionDxe\\oniguruma\\HISTORY:classes-['multi-char by case folded char-class is treated as', '2004/11/25: [impl] move implementation of shared char-class from enc/*.c', 'illegal check in char-class range in UTF-8.', 'illegal result in negative character class in ignore case', 'character class for implementation reason.', '[\\\\^] is not a empty char class.', '2004/01/20: [spec] add \\\\p{...}, \\\\P{...} in char class.', '2003/09/17: [spec] change specification of char-class range in ignore case mode', \"2003/06/12: [spec] should warn for '-' before '&&' operator in char-class.\", '2003/06/11: [new]  char-class in char-class (as Java(TM)).', '2003/06/11: [spec] change AND operator in char-class from &&[..] to &&.', '2003/05/30: [new]  char class intersection operator &&[...] like Java(TM).', \"2003/05/27: [spec] '-' at beginning of char-class should be warn only if\", '2003/05/27: [spec] /[]aaa/ should be empty char-class error.', '2003/05/13: [spec] add warning for char class meta character without escape', '2003/02/07: [spec] range in char-class should be same spec. with Ruby', 'char-class(\\\\S, [^\\\\s] etc...) optimize map-info was wrong.', 'multibyte code range in char class.', '2002/03/19: [impl] word alignment of char class multi-byte code ranges.']\n",
      "vram\\MdeModulePkg\\Universal\\RegularExpressionDxe\\oniguruma\\doc\\API:classes-[\"'[', '-', ']' in character class without escape.\"]\n",
      "vram\\MdeModulePkg\\Universal\\RegularExpressionDxe\\oniguruma\\doc\\RE:classes-['[...]   character class', '(* \\\\b as backspace is effective in character class only)', \"\\\\R       general newline  (* can't be used in character-class)\", '6. Character class', '^...    negative class (lowest precedence)', '[...]   set (character class in character class)', \"in character class, you should escape them with '\\\\'.\", '+ add operations in character class. [], &&', \"('[' must be escaped as an usual char in character class.)\", 'a multibyte code char in character class if multibyte encoding', 'class.']\n",
      "vram\\MdePkg\\Library\\BaseFdtLib\\libfdt\\GPL:imports-['special exception, the source code distributed need not include\\nanything that is normally distributed (in either source or binary']\n",
      "vram\\MdePkg\\Library\\MipiSysTLib\\mipisyst\\external\\googletest\\googlemock\\make\\Makefile:imports-['CPPFLAGS += -isystem $(GTEST_DIR)/include -isystem $(GMOCK_DIR)/include']\n",
      "vram\\MdePkg\\Library\\MipiSysTLib\\mipisyst\\external\\googletest\\googlemock\\scripts\\generator\\LICENSE:imports-['of this License, Derivative Works shall not include works that remain', 'include a readable copy of the attribution notices contained', \"replaced with your own identifying information. (Don't include\\n      the brackets!)  The text should be enclosed in the appropriate\"]\n",
      "vram\\MdePkg\\Library\\MipiSysTLib\\mipisyst\\external\\googletest\\googlemock\\CHANGES:classes-['some class templates.', 'when the constructor and destructor of a mock class are moved out of', 'the class body.']\n",
      "vram\\MdePkg\\Library\\MipiSysTLib\\mipisyst\\external\\googletest\\googlemock\\scripts\\generator\\LICENSE:classes-['file or class name and description of purpose be included on the']\n",
      "for you:']\n",
      "vram\\MdePkg\\Library\\MipiSysTLib\\mipisyst\\external\\pugixml\\Makefile:imports-['-include $(OBJECTS:.o=.d)']\n",
      "vram\\MdePkg\\Library\\MipiSysTLib\\mipisyst\\external\\googletest\\googlemock\\scripts\\generator\\README:classes-['The Google Mock class generator is an application that is part of cppclean.', 'To use the Google Mock class generator, you need to call it', 'on the command line passing the header file and class for which you want', 'to generate a Google Mock class.']\n",
      "vram\\RedfishPkg\\Library\\JsonLib\\jansson\\CHANGES:imports-[\"- Don't expect ``jansson_config.h`` to be in the compiler's include\\n    path (#209).\"]\n",
      "vram\\UnitTestFrameworkPkg\\Library\\CmockaLib\\cmocka\\.clang_complete:imports-['-Iinclude\\n-Iobj']\n",
      "vram\\UnitTestFrameworkPkg\\Library\\CmockaLib\\cmocka\\COPYING:imports-['of this License, Derivative Works shall not include works that remain', 'include a readable copy of the attribution notices contained', \"replaced with your own identifying information. (Don't include\\n      the brackets!)  The text should be enclosed in the appropriate\"]\n",
      "vram\\UnitTestFrameworkPkg\\Library\\CmockaLib\\cmocka\\COPYING:classes-['file or class name and description of purpose be included on the']\n",
      "vram\\MdeModulePkg\\Library\\BrotliCustomDecompressLib\\brotli\\research\\BUILD.libdivsufsort:imports-['\"gsub(/@INCFILE@/, \\\\\"#include <inttypes.h>\\\\\"); \" +']\n",
      "vram\\ReadMe.rst:imports-['The EDK II Project is composed of packages. The maintainers for each package\\nare listed in `Maintainers.txt <Maintainers.txt>`__.', '#. Your commit message must include your ``Signed-off-by`` signature', 'commit message, and must include your ``Signed-off-by`` signature.', \"include a statement that to the best of the contributor's knowledge\"]\n",
      "vram\\RedfishPkg\\Library\\JsonLib\\jansson\\doc\\apiref.rst:imports-['#include <jansson.h>', 'require copying them. But sometimes a fresh copy of a JSON value is']\n",
      "vram\\RedfishPkg\\Library\\JsonLib\\jansson\\doc\\gettingstarted.rst:imports-['#include <jansson.h>']\n",
      "vram\\RedfishPkg\\Library\\JsonLib\\jansson\\doc\\tutorial.rst:imports-['#include <string.h>', '#include <jansson.h>', 'Like all the programs using Jansson, we need to include\\n:file:`jansson.h`.']\n",
      "Understand the codebase and the project structure.\n",
      "ai:  The text you provided appears to be fragments of various configuration and documentation files from a codebase. I will attempt to summarize the information contained in these fragments.\n",
      "\n",
      "1. lldbinit: This file is related to the LLDB debugger and imports a Python module `lldbefi.py`.\n",
      "2. configure-cmake: This file is a CMake configuration script for the BrotliCustomDecompressLib library and mentions the GNUInstallDirs module.\n",
      "3. Makefile: This is a Makefile for the BrotliCustomDecompressLib library, using the C compiler and including headers from the `c/include` directory.\n",
      "4. python/Makefile: This is a Makefile for building Python extensions in the BrotliCustomDecompressLib library, extracting the extension suffix from the Python configuration.\n",
      "5. INSTALL: This is a generic installation instruction file for the oniguruma package, mentioning various ways to configure and compile the package for different systems and environments.\n",
      "6. depcomp: This file is an Autoconf script for compiling source files in the oniguruma package.\n",
      "7. missing: This file is an Autoconf script for checking for the presence of various utility programs.\n",
      "8. HISTORY: This is a file containing version history and change notes for the oniguruma package, with items like bug fixes, implementation changes, and specifications.\n",
      "9. compile: This file is an Autoconf script for compiling source files in the oniguruma package.\n",
      "10. RE: This is a documentation file for the oniguruma package, discussing regular expression syntax and character class usage.\n",
      "11. GPL: This file is a statement of licensing for the BaseFdtLib library, specifying that the source code must include any necessary attribution notices.\n",
      "12. Makefile: This is a Makefile for the googletest and googlemock libraries, setting compiler flags and paths for header files.\n",
      "13. LICENSE: This is a license file for the googletest and googlemock libraries, specifying terms and conditions for using, copying, modifying, and distributing the software.\n",
      "14. CHANGES: This is a file containing version history and change notes for the googlemock library, similar to the oniguruma HISTORY file.\n",
      "15. README: This is a file describing the Google Mock class generator, its usage, and requirements.\n",
      "16. CHANGES: This is a file containing version history and change notes for the jansson library.\n",
      "17. .clang\\_complete: This file provides compiler flags and include paths for the cmocka library.\n",
      "18. COPYING: This is a license file for the cmocka library, specifying terms and conditions for using, copying, modifying, and distributing the software.\n",
      "19. BUILD.libdivsufsort: This file appears to be part of a build system, with a line of code to replace a placeholder with an include directive.\n",
      "20. Redme.rst: This file is a general introduction to the EDK II Project and its package structure, as well as commit message guidelines and a disclaimer.\n",
      "21. apiref.rst: This is a documentation file for the jansson library, discussing various functions and macros related to JSON parsing and manipulation.\n",
      "22. gettingstarted.rst: This is a documentation file for the jansson library, providing an introduction to using the library and examples of common tasks.\n",
      "23. tutorial.rst: This is a documentation file for the jansson library, providing a beginner's tutorial on JSON parsing and manipulation using the library.\n",
      "\n",
      "These fragments show a variety of configuration files, documentation, and licensing information from different libraries and packages within the codebase. They demonstrate the complex structure and organization of the project, as well as the different components and tools used in development.\n",
      "\n",
      "Second interaction:\n",
      "Assistant:  Based on the provided information, I cannot directly generate test automation scripts without a deeper understanding of the project, the specific components to be tested, and the desired test scenarios. However, I can outline a general approach to creating test automation scripts for this project.\n",
      "\n",
      "1. Choose a test automation framework: Select a suitable test automation framework based on the project requirements, such as CMocka, Unity, or Google Test for C/C++ projects.\n",
      "2. Identify components to be tested: Analyze the project structure and identify the key components, libraries, or packages that require testing. For example, libraries like oniguruma, jansson, or cmocka.\n",
      "3. Design test scenarios: Determine the test scenarios for each component. This could include testing various functions, methods, or APIs with different input parameters and expected outcomes.\n",
      "4. Create test cases and test scripts: Write test cases and test scripts based on the designed test scenarios. Ensure that the tests cover both positive and negative cases, edge cases, and any specific requirements mentioned in the documentation.\n",
      "5. Integrate test scripts into the build system: Integrate the test scripts into the project's build system, so they can be executed automatically during the build process. This can help identify issues early in the development cycle.\n",
      "6. Analyze and report test results: Implement a mechanism for analyzing and reporting test results. This can help developers quickly identify and address issues.\n",
      "\n",
      "To provide more specific test automation scripts, I would need more information about the project, such as the source code, build system, and specific components to be tested.\n",
      "\n",
      "Chat History for session 1:\n",
      "human: vram\\EmulatorPkg\\Unix\\lldbinit:imports-['command script import lldbefi.py']\n",
      "vram\\MdeModulePkg\\Library\\BrotliCustomDecompressLib\\brotli\\configure-cmake:imports-['#   You must include the GNUInstallDirs module (which comes with', '#   CMake) in your project.  Just put \"include (GNUInstallDirs)\" in']\n",
      "vram\\MdeModulePkg\\Library\\BrotliCustomDecompressLib\\brotli\\Makefile:imports-['$(CC) $(CFLAGS) $(CPPFLAGS) -Ic/include \\\\']\n",
      "vram\\MdeModulePkg\\Library\\BrotliCustomDecompressLib\\brotli\\python\\Makefile:imports-['EXT_SUFFIX=$(shell $(PYTHON) -c \\'import sysconfig; print(sysconfig.get_config_var(\"EXT_SUFFIX\"))\\')']\n",
      "vram\\MdeModulePkg\\Universal\\RegularExpressionDxe\\oniguruma\\INSTALL:imports-['below.  The lack of an optional feature in a given package is not', 'The simplest way to compile this package is:', \"'./configure' to configure the package for your system.\", 'recommended that the package be configured and built as a regular', \"files that 'configure' created (so you can compile the package for\", 'Some systems require unusual options for compilation or linking that', 'You can compile the package for more than one kind of computer at the', \"With a non-GNU 'make', it is safer to compile the package for one\", \"installed the package for one architecture, use 'make distclean' before\", \"'/usr/local/bin', include files under '/usr/local/include', etc.  You\", \"pass the option '--exec-prefix=PREFIX' to 'configure', the package uses\", 'If the package supports it, you can cause programs to be installed', 'package recognizes.', \"find the X include and library files automatically, but if it doesn't,\", 'automatically, but needs to determine by the type of machine the package\\nwill run on.  Usually, assuming the package is built to be run on the', \"'config.sub' isn't included in this package, then this package doesn't\"]\n",
      "vram\\MdeModulePkg\\Universal\\RegularExpressionDxe\\oniguruma\\depcomp:imports-['# configuration script generated by Autoconf, you may include it under', '# Makefile \"include basename.Plo\" scheme.', '# name when reading, but also accumulates all include files in the']\n",
      "vram\\MdeModulePkg\\Universal\\RegularExpressionDxe\\oniguruma\\missing:imports-['# configuration script generated by Autoconf, you may include it under', 'echo \"case some other package contains this missing \\'$1\\' program.\"']\n",
      "vram\\MdeModulePkg\\Universal\\RegularExpressionDxe\\oniguruma\\HISTORY:imports-['2018/01/26: remove include windows.h from oniguruma.h', '2007/03/06: [bug]  add #include <malloc.h> for bcc32.', 'enclose #include <sys/types.h> by #ifndef __BORLANDC__.', '2003/09/02: [impl] include <stdio.h> is forgotten to erase in regcomp.c.']\n",
      "vram\\MdeModulePkg\\Universal\\RegularExpressionDxe\\oniguruma\\compile:imports-['# configuration script generated by Autoconf, you may include it under', 'If you are trying to build a whole package this is not the']\n",
      "vram\\MdeModulePkg\\Universal\\RegularExpressionDxe\\oniguruma\\doc\\RE:imports-['graph    include all of multibyte encoded characters', 'print    include all of multibyte encoded characters', 'limited by the range that does not include the string', 'that does not include the string match with <absent>.', 'at the point that does not include the string match whth']\n",
      "vram\\MdeModulePkg\\Universal\\RegularExpressionDxe\\oniguruma\\HISTORY:classes-['multi-char by case folded char-class is treated as', '2004/11/25: [impl] move implementation of shared char-class from enc/*.c', 'illegal check in char-class range in UTF-8.', 'illegal result in negative character class in ignore case', 'character class for implementation reason.', '[\\\\^] is not a empty char class.', '2004/01/20: [spec] add \\\\p{...}, \\\\P{...} in char class.', '2003/09/17: [spec] change specification of char-class range in ignore case mode', \"2003/06/12: [spec] should warn for '-' before '&&' operator in char-class.\", '2003/06/11: [new]  char-class in char-class (as Java(TM)).', '2003/06/11: [spec] change AND operator in char-class from &&[..] to &&.', '2003/05/30: [new]  char class intersection operator &&[...] like Java(TM).', \"2003/05/27: [spec] '-' at beginning of char-class should be warn only if\", '2003/05/27: [spec] /[]aaa/ should be empty char-class error.', '2003/05/13: [spec] add warning for char class meta character without escape', '2003/02/07: [spec] range in char-class should be same spec. with Ruby', 'char-class(\\\\S, [^\\\\s] etc...) optimize map-info was wrong.', 'multibyte code range in char class.', '2002/03/19: [impl] word alignment of char class multi-byte code ranges.']\n",
      "vram\\MdeModulePkg\\Universal\\RegularExpressionDxe\\oniguruma\\doc\\API:classes-[\"'[', '-', ']' in character class without escape.\"]\n",
      "vram\\MdeModulePkg\\Universal\\RegularExpressionDxe\\oniguruma\\doc\\RE:classes-['[...]   character class', '(* \\\\b as backspace is effective in character class only)', \"\\\\R       general newline  (* can't be used in character-class)\", '6. Character class', '^...    negative class (lowest precedence)', '[...]   set (character class in character class)', \"in character class, you should escape them with '\\\\'.\", '+ add operations in character class. [], &&', \"('[' must be escaped as an usual char in character class.)\", 'a multibyte code char in character class if multibyte encoding', 'class.']\n",
      "vram\\MdePkg\\Library\\BaseFdtLib\\libfdt\\GPL:imports-['special exception, the source code distributed need not include\\nanything that is normally distributed (in either source or binary']\n",
      "vram\\MdePkg\\Library\\MipiSysTLib\\mipisyst\\external\\googletest\\googlemock\\make\\Makefile:imports-['CPPFLAGS += -isystem $(GTEST_DIR)/include -isystem $(GMOCK_DIR)/include']\n",
      "vram\\MdePkg\\Library\\MipiSysTLib\\mipisyst\\external\\googletest\\googlemock\\scripts\\generator\\LICENSE:imports-['of this License, Derivative Works shall not include works that remain', 'include a readable copy of the attribution notices contained', \"replaced with your own identifying information. (Don't include\\n      the brackets!)  The text should be enclosed in the appropriate\"]\n",
      "vram\\MdePkg\\Library\\MipiSysTLib\\mipisyst\\external\\googletest\\googlemock\\CHANGES:classes-['some class templates.', 'when the constructor and destructor of a mock class are moved out of', 'the class body.']\n",
      "vram\\MdePkg\\Library\\MipiSysTLib\\mipisyst\\external\\googletest\\googlemock\\scripts\\generator\\LICENSE:classes-['file or class name and description of purpose be included on the']\n",
      "for you:']\n",
      "vram\\MdePkg\\Library\\MipiSysTLib\\mipisyst\\external\\pugixml\\Makefile:imports-['-include $(OBJECTS:.o=.d)']\n",
      "vram\\MdePkg\\Library\\MipiSysTLib\\mipisyst\\external\\googletest\\googlemock\\scripts\\generator\\README:classes-['The Google Mock class generator is an application that is part of cppclean.', 'To use the Google Mock class generator, you need to call it', 'on the command line passing the header file and class for which you want', 'to generate a Google Mock class.']\n",
      "vram\\RedfishPkg\\Library\\JsonLib\\jansson\\CHANGES:imports-[\"- Don't expect ``jansson_config.h`` to be in the compiler's include\\n    path (#209).\"]\n",
      "vram\\UnitTestFrameworkPkg\\Library\\CmockaLib\\cmocka\\.clang_complete:imports-['-Iinclude\\n-Iobj']\n",
      "vram\\UnitTestFrameworkPkg\\Library\\CmockaLib\\cmocka\\COPYING:imports-['of this License, Derivative Works shall not include works that remain', 'include a readable copy of the attribution notices contained', \"replaced with your own identifying information. (Don't include\\n      the brackets!)  The text should be enclosed in the appropriate\"]\n",
      "vram\\UnitTestFrameworkPkg\\Library\\CmockaLib\\cmocka\\COPYING:classes-['file or class name and description of purpose be included on the']\n",
      "vram\\MdeModulePkg\\Library\\BrotliCustomDecompressLib\\brotli\\research\\BUILD.libdivsufsort:imports-['\"gsub(/@INCFILE@/, \\\\\"#include <inttypes.h>\\\\\"); \" +']\n",
      "vram\\ReadMe.rst:imports-['The EDK II Project is composed of packages. The maintainers for each package\\nare listed in `Maintainers.txt <Maintainers.txt>`__.', '#. Your commit message must include your ``Signed-off-by`` signature', 'commit message, and must include your ``Signed-off-by`` signature.', \"include a statement that to the best of the contributor's knowledge\"]\n",
      "vram\\RedfishPkg\\Library\\JsonLib\\jansson\\doc\\apiref.rst:imports-['#include <jansson.h>', 'require copying them. But sometimes a fresh copy of a JSON value is']\n",
      "vram\\RedfishPkg\\Library\\JsonLib\\jansson\\doc\\gettingstarted.rst:imports-['#include <jansson.h>']\n",
      "vram\\RedfishPkg\\Library\\JsonLib\\jansson\\doc\\tutorial.rst:imports-['#include <string.h>', '#include <jansson.h>', 'Like all the programs using Jansson, we need to include\\n:file:`jansson.h`.']\n",
      "Understand the codebase and the project structure.\n",
      "ai:  The text you provided appears to be fragments of various configuration and documentation files from a codebase. I will attempt to summarize the information contained in these fragments.\n",
      "\n",
      "1. lldbinit: This file is related to the LLDB debugger and imports a Python module `lldbefi.py`.\n",
      "2. configure-cmake: This file is a CMake configuration script for the BrotliCustomDecompressLib library and mentions the GNUInstallDirs module.\n",
      "3. Makefile: This is a Makefile for the BrotliCustomDecompressLib library, using the C compiler and including headers from the `c/include` directory.\n",
      "4. python/Makefile: This is a Makefile for building Python extensions in the BrotliCustomDecompressLib library, extracting the extension suffix from the Python configuration.\n",
      "5. INSTALL: This is a generic installation instruction file for the oniguruma package, mentioning various ways to configure and compile the package for different systems and environments.\n",
      "6. depcomp: This file is an Autoconf script for compiling source files in the oniguruma package.\n",
      "7. missing: This file is an Autoconf script for checking for the presence of various utility programs.\n",
      "8. HISTORY: This is a file containing version history and change notes for the oniguruma package, with items like bug fixes, implementation changes, and specifications.\n",
      "9. compile: This file is an Autoconf script for compiling source files in the oniguruma package.\n",
      "10. RE: This is a documentation file for the oniguruma package, discussing regular expression syntax and character class usage.\n",
      "11. GPL: This file is a statement of licensing for the BaseFdtLib library, specifying that the source code must include any necessary attribution notices.\n",
      "12. Makefile: This is a Makefile for the googletest and googlemock libraries, setting compiler flags and paths for header files.\n",
      "13. LICENSE: This is a license file for the googletest and googlemock libraries, specifying terms and conditions for using, copying, modifying, and distributing the software.\n",
      "14. CHANGES: This is a file containing version history and change notes for the googlemock library, similar to the oniguruma HISTORY file.\n",
      "15. README: This is a file describing the Google Mock class generator, its usage, and requirements.\n",
      "16. CHANGES: This is a file containing version history and change notes for the jansson library.\n",
      "17. .clang\\_complete: This file provides compiler flags and include paths for the cmocka library.\n",
      "18. COPYING: This is a license file for the cmocka library, specifying terms and conditions for using, copying, modifying, and distributing the software.\n",
      "19. BUILD.libdivsufsort: This file appears to be part of a build system, with a line of code to replace a placeholder with an include directive.\n",
      "20. Redme.rst: This file is a general introduction to the EDK II Project and its package structure, as well as commit message guidelines and a disclaimer.\n",
      "21. apiref.rst: This is a documentation file for the jansson library, discussing various functions and macros related to JSON parsing and manipulation.\n",
      "22. gettingstarted.rst: This is a documentation file for the jansson library, providing an introduction to using the library and examples of common tasks.\n",
      "23. tutorial.rst: This is a documentation file for the jansson library, providing a beginner's tutorial on JSON parsing and manipulation using the library.\n",
      "\n",
      "These fragments show a variety of configuration files, documentation, and licensing information from different libraries and packages within the codebase. They demonstrate the complex structure and organization of the project, as well as the different components and tools used in development.\n",
      "human: Can you generate test automation scripts on this project given the information or do you need more?\n",
      "ai:  Based on the provided information, I cannot directly generate test automation scripts without a deeper understanding of the project, the specific components to be tested, and the desired test scenarios. However, I can outline a general approach to creating test automation scripts for this project.\n",
      "\n",
      "1. Choose a test automation framework: Select a suitable test automation framework based on the project requirements, such as CMocka, Unity, or Google Test for C/C++ projects.\n",
      "2. Identify components to be tested: Analyze the project structure and identify the key components, libraries, or packages that require testing. For example, libraries like oniguruma, jansson, or cmocka.\n",
      "3. Design test scenarios: Determine the test scenarios for each component. This could include testing various functions, methods, or APIs with different input parameters and expected outcomes.\n",
      "4. Create test cases and test scripts: Write test cases and test scripts based on the designed test scenarios. Ensure that the tests cover both positive and negative cases, edge cases, and any specific requirements mentioned in the documentation.\n",
      "5. Integrate test scripts into the build system: Integrate the test scripts into the project's build system, so they can be executed automatically during the build process. This can help identify issues early in the development cycle.\n",
      "6. Analyze and report test results: Implement a mechanism for analyzing and reporting test results. This can help developers quickly identify and address issues.\n",
      "\n",
      "To provide more specific test automation scripts, I would need more information about the project, such as the source code, build system, and specific components to be tested.\n"
     ]
    }
   ],
   "source": [
    "print(f\"Model: {model_selected}\")\n",
    "\n",
    "# Chat history management\n",
    "store = {}  # memory is maintained outside the chain\n",
    "\n",
    "def get_session_history(session_id: str) -> InMemoryChatMessageHistory:\n",
    "    if session_id not in store:\n",
    "        store[session_id] = InMemoryChatMessageHistory()\n",
    "    return store[session_id]\n",
    "\n",
    "def print_chat_history(session_id: str):\n",
    "    history = get_session_history(session_id)\n",
    "    print(f\"\\nChat History for session {session_id}:\")\n",
    "    for message in history.messages:\n",
    "        print(f\"{message.type}: {message.content}\")\n",
    "\n",
    "# Create a proper LLM object\n",
    "llm = ChatOpenAI(\n",
    "    base_url='https://opensource-challenger-api.prdlvgpu1.aiaccel.dell.com/v1',\n",
    "    model=model_selected,\n",
    "    openai_api_key=os.environ['LLM_API'],\n",
    "    http_client=http_client\n",
    ")\n",
    "\n",
    "chain = RunnableWithMessageHistory(llm, get_session_history)\n",
    "\n",
    "# Check initial state\n",
    "print_chat_history(\"1\")\n",
    "\n",
    "# First interaction\n",
    "print(\"\\nFirst interaction:\")\n",
    "response1 = chain.invoke(\n",
    "    required_prompt+\"Understand the codebase and the project structure.\",\n",
    "    config={\"configurable\": {\"session_id\": \"1\"}},\n",
    ")\n",
    "print(\"Assistant:\", response1.content)\n",
    "\n",
    "# Check history after first interaction\n",
    "print_chat_history(\"1\")\n",
    "\n",
    "# Second interaction\n",
    "print(\"\\nSecond interaction:\")\n",
    "response2 = chain.invoke(\n",
    "    \"Can you generate test automation scripts on this project given the information or do you need more?\",\n",
    "    config={\"configurable\": {\"session_id\": \"1\"}},\n",
    ")\n",
    "print(\"Assistant:\", response2.content)\n",
    "\n",
    "# Check history after second interaction\n",
    "print_chat_history(\"1\")\n",
    "\n"
   ]
  },
  {
   "cell_type": "markdown",
   "metadata": {},
   "source": [
    "It kinda works I think the prompts need to be more streamlined and then I can work on the post processing and preprocessing of the file"
   ]
  },
  {
   "cell_type": "code",
   "execution_count": 5,
   "metadata": {},
   "outputs": [
    {
     "name": "stderr",
     "output_type": "stream",
     "text": [
      "Parent run 65e10a2c-5954-4693-be9f-cc6160c6bffe not found for run 22038ca2-c20f-4971-8682-967f8d9c85fe. Treating as a root run.\n"
     ]
    },
    {
     "name": "stdout",
     "output_type": "stream",
     "text": [
      "Current Context: 944\n"
     ]
    },
    {
     "name": "stderr",
     "output_type": "stream",
     "text": [
      "Parent run 68e22393-079d-4aab-ada5-c4c62a59e855 not found for run 9392d4d2-8e22-4230-93ca-7b3368078d00. Treating as a root run.\n"
     ]
    },
    {
     "name": "stdout",
     "output_type": "stream",
     "text": [
      "Assistant:  In order to write test automation code for the given context, I would need to have a better understanding of what is being tested and the desired behavior of the libraries mentioned. However, I can provide some general guidance on how to approach writing test automation for these libraries.\n",
      "\n",
      "Firstly, it is important to note that these libraries are part of the UEFI (Unified Extensible Firmware Interface) framework, which is a modern firmware interface specification for computers. Therefore, the test automation code will likely need to be written in a language that can interface with UEFI, such as C or C++.\n",
      "\n",
      "Here are some specific steps that could be taken to write test automation for the given libraries:\n",
      "\n",
      "1. **Set up a testing framework:** There are several testing frameworks available for UEFI, such as UEFITest and MiniYAMLTest. These frameworks can help simplify the process of writing and running tests for UEFI drivers and libraries.\n",
      "2. **Understand the library interfaces:** Each library has a set of functions or methods that can be called to perform specific tasks. It is important to understand the input parameters, return values, and any error conditions for each function. This information can typically be found in the library's documentation or header files.\n",
      "3. **Create test cases:** Once the library interfaces are understood, test cases can be created to exercise each function. Test cases should cover both normal and error conditions. For example, a test case for the `FileHandleLib` library might open a file and read its contents, while a test case for the `CpuLib` library might call a function to retrieve the current CPU frequency and verify that the result is within expected bounds.\n",
      "4. **Implement test functions:** For each test case, a test function should be implemented that calls the appropriate library function and verifies the result. The testing framework should provide mechanisms for indicating whether a test passed or failed.\n",
      "5. **Run the tests:** Once the test functions have been implemented, they can be run using the testing framework. Any failures should be investigated and the root cause identified and fixed.\n",
      "\n",
      "Here is an example of what a test function for the `FileHandleLib` library might look like in C:\n",
      "```c\n",
      "#include <Library/FileHandleLib.h>\n",
      "#include <Library/DebugLib.h>\n",
      "\n",
      "TEST_CASE( \"FileHandleLib_ReadFile\", \"[FileHandleLib]\" ) {\n",
      "  EFI_FILE_HANDLE file;\n",
      "  CHAR16 filename[] = L\"test.txt\";\n",
      "  UINTN size;\n",
      "  VOID *buffer;\n",
      "  EFI_STATUS status;\n",
      "\n",
      "  // Open the file\n",
      "  status = OpenFileByName (NULL, &file, filename, EFI_FILE_MODE_READ, 0);\n",
      "  REQUIRE( status == EFI_SUCCESS );\n",
      "\n",
      "  // Read the file contents into a buffer\n",
      "  status = FileHandleLib_ReadFile (file, &size, &buffer);\n",
      "  REQUIRE( status == EFI_SUCCESS );\n",
      "\n",
      "  // Verify the buffer contents\n",
      "  REQUIRE( size > 0 );\n",
      "  REQUIRE( buffer != NULL );\n",
      "  REQUIRE( StrCmp ((CHAR16*)buffer, L\"Test file contents\") == 0 );\n",
      "\n",
      "  // Free the buffer\n",
      "  FreePool (buffer);\n",
      "\n",
      "  // Close the file\n",
      "  status = FileHandleLib_Close (file);\n",
      "  REQUIRE( status == EFI_SUCCESS );\n",
      "}\n",
      "```\n",
      "In this example, the `FileHandleLib_ReadFile` function is called to read the contents of a file named \"test.txt\". The function's return value is checked to ensure it is `EFI_SUCCESS`, and the buffer contents are verified to ensure they match the expected file contents. Finally, the buffer is freed and the file is closed.\n",
      "Current Context: 1541\n"
     ]
    },
    {
     "name": "stderr",
     "output_type": "stream",
     "text": [
      "Parent run ba26fabf-37d3-4a90-ada8-b2fc3da69ef6 not found for run 50af3f9b-c0d7-4f49-b537-0de79091bbfd. Treating as a root run.\n"
     ]
    },
    {
     "name": "stdout",
     "output_type": "stream",
     "text": [
      "Assistant:  To write test automation code for the given context, we would need to first identify the specific functionality within these libraries that we want to test. Here are some potential test cases based on the information provided:\n",
      "\n",
      "1. **Test SerialPortLib functions:** We could write test cases for the serial I/O port functions provided by `SerialPortLib`. For example, we could write a test case that opens a serial port, writes some data to it, and then reads the data back to verify that it was transmitted correctly.\n",
      "2. **Test S3StallLib behavior:** We could write test cases for the `S3StallLib` library to verify its behavior during S3 resume. For example, we could write a test case that puts the system into S3 sleep, waits for a specified amount of time, and then verifies that the system resumes correctly.\n",
      "3. **Test SmmServicesTableLib functions:** We could write test cases for the `SmmServicesTableLib` library to verify its functionality. For example, we could write a test case that registers a handler function with the SMM services table and then verifies that the handler function is called correctly during SMM operation.\n",
      "4. **Test UefiLib functions:** The `UefiLib` library provides a variety of functions for working with UEFI firmware. We could write test cases for specific functions within this library, such as the ACPI protocol functions or the graphics output protocol functions.\n",
      "5. **Test UefiScsiLib functions:** The `UefiScsiLib` library provides functions for working with SCSI devices. We could write test cases for specific functions within this library, such as sending SCSI commands to a device and verifying the response.\n",
      "6. **Test UnitTestLib functions:** The `UnitTestLib` library provides functions for writing unit tests in UEFI firmware. We could write test cases that use this library to verify the functionality of other UEFI libraries or drivers.\n",
      "7. **Test UefiUsbLib functions:** The `UefiUsbLib` library provides functions for working with USB devices. We could write test cases for specific functions within this library, such as sending USB requests to a device and verifying the response.\n",
      "\n",
      "Here is an example of what a test function for the `SerialPortLib` library might look like in C:\n",
      "```c\n",
      "#include <Library/SerialPortLib.h>\n",
      "#include <Library/BaseLib.h>\n",
      "#include <Library/UnitTestLib.h>\n",
      "\n",
      "TEST_CASE( \"SerialPortLib_WriteData\", \"[SerialPortLib]\" ) {\n",
      "  EFI_STATUS status;\n",
      "  EFI_SERIAL_IO_PROTOCOL *serial_io;\n",
      "  CHAR16 data[] = L\"Hello, world!\";\n",
      "  CHAR16 read_data[64];\n",
      "  UINTN read_size;\n",
      "\n",
      "  // Get the serial I/O protocol\n",
      "  status = gBS->LocateProtocol(&gEfiSerialIoProtocolGuid, NULL, (VOID **)&serial_io);\n",
      "  REQUIRE( status == EFI_SUCCESS );\n",
      "\n",
      "  // Write data to the serial port\n",
      "  status = SerialPortLib_WriteData(serial_io, data, sizeof(data)/sizeof(CHAR16));\n",
      "  REQUIRE( status == EFI_SUCCESS );\n",
      "\n",
      "  // Read data from the serial port\n",
      "  status = SerialPortLib_ReadData(serial_io, &read_size, read_data);\n",
      "  REQUIRE( status == EFI_SUCCESS );\n",
      "\n",
      "  // Verify the data was transmitted correctly\n",
      "  REQUIRE( read_size == StrLen(data));\n",
      "  REQUIRE( StrCmp(data, read_data) == 0 );\n",
      "}\n",
      "```\n",
      "In this example, the `SerialPortLib_WriteData` function is called to write a string of data to the serial port. The function's return value is checked to ensure it is `EFI_SUCCESS`, and then the `SerialPortLib_ReadData` function is called to read the data back from the serial port. Finally, the original and readback data are compared to verify that they match.\n",
      "Current Context: 1477\n"
     ]
    }
   ],
   "source": [
    "with open('../output1.txt', 'r') as f:\n",
    "    content = f.readlines()\n",
    "\n",
    "store = {}  # memory is maintained outside the chain\n",
    "\n",
    "def get_session_history(session_id: str) -> InMemoryChatMessageHistory:\n",
    "    if session_id not in store:\n",
    "        store[session_id] = InMemoryChatMessageHistory()\n",
    "    return store[session_id]\n",
    "\n",
    "llm = ChatOpenAI(\n",
    "    base_url='https://opensource-challenger-api.prdlvgpu1.aiaccel.dell.com/v1',\n",
    "    model=model_selected,\n",
    "    openai_api_key=os.environ['LLM_API'],\n",
    "    http_client=http_client,\n",
    "    stream_usage=True\n",
    ")\n",
    "\n",
    "chain = RunnableWithMessageHistory(llm, get_session_history)\n",
    "\n",
    "\n",
    "current_context = \"\".join(content[:10])\n",
    "ctr = 10\n",
    "llm_request = \"need more\"\n",
    "while llm_request == \"need more\":\n",
    "    print(f\"Current Context: {len(current_context)}\")\n",
    "    response = chain.invoke(\n",
    "        current_context+\" write code for test automation of the given context or say 'need more' to request for more information.\",\n",
    "        config={\"configurable\": {\"session_id\": \"1\"}},\n",
    "    )\n",
    "    print(\"Assistant:\", response.content)\n",
    "    if 'need' in response.content.lower() or 'more' in response.content.lower():\n",
    "        llm_request = \"need more\"\n",
    "        ctr+=10\n",
    "        current_context = \"\".join(content[ctr:ctr+10]) if ctr+10 < len(content) else \"\".join(content[ctr:])\n",
    "    else:\n",
    "        llm_request = \"done\"\n",
    "\n"
   ]
  },
  {
   "cell_type": "code",
   "execution_count": null,
   "metadata": {},
   "outputs": [],
   "source": [
    "\n"
   ]
  }
 ],
 "metadata": {
  "kernelspec": {
   "display_name": "Python 3",
   "language": "python",
   "name": "python3"
  },
  "language_info": {
   "codemirror_mode": {
    "name": "ipython",
    "version": 3
   },
   "file_extension": ".py",
   "mimetype": "text/x-python",
   "name": "python",
   "nbconvert_exporter": "python",
   "pygments_lexer": "ipython3",
   "version": "3.12.4"
  }
 },
 "nbformat": 4,
 "nbformat_minor": 2
}
